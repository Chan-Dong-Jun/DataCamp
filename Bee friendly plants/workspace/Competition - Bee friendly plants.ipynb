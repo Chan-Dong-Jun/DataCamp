{
 "cells": [
  {
   "cell_type": "markdown",
   "id": "dbc16e34-4042-4a7d-af3d-62ddb1e1977f",
   "metadata": {},
   "source": [
    "![bees](bees.jpg)"
   ]
  },
  {
   "cell_type": "markdown",
   "id": "3a33754e-bca5-498d-b975-a2862e5a8463",
   "metadata": {},
   "source": [
    "# Which plants are better for bees: native or non-native?\n",
    "\n",
    "## 📖 Background\n",
    "You work for the local government environment agency and have taken on a project about creating pollinator bee-friendly spaces. You can use both native and non-native plants to create these spaces and therefore need to ensure that you use the correct plants to optimize the environment for these bees.\n",
    "\n",
    "The team has collected data on native and non-native plants and their effects on pollinator bees. Your task will be to analyze this data and provide recommendations on which plants create an optimized environment for pollinator bees."
   ]
  },
  {
   "cell_type": "markdown",
   "id": "e75ef587-3625-43bb-a127-9594f06dbb9b",
   "metadata": {},
   "source": [
    "## 💾 The Data\n",
    "You have assembled information on the plants and bees research in a file called `plants_and_bees.csv`. Each row represents a sample that was taken from a patch of land where the plant species were being studied.\n",
    "\n",
    "| Column     | Description              |\n",
    "|------------|--------------------------|\n",
    "| `sample_id` | The ID number of the sample taken. |\n",
    "| `bees_num` | The total number of bee individuals in the sample. |\n",
    "| `date` | Date the sample was taken. |\n",
    "| `season` | Season during sample collection (\"early.season\" or \"late.season\"). |\n",
    "| `site` | Name of collection site. |\n",
    "| `native_or_non` | Whether the sample was from a native or non-native plot. |\n",
    "| `sampling` | The sampling method. |\n",
    "| `plant_species` | The name of the plant species the sample was taken from. None indicates the sample was taken from the air. |\n",
    "| `time` | The time the sample was taken. |\n",
    "| `bee_species` | The bee species in the sample. |\n",
    "| `sex` | The gender of the bee species. |\n",
    "| `specialized_on` | The plant genus the bee species preferred. |\n",
    "| `parasitic` | Whether or not the bee is parasitic (0:no, 1:yes). |\n",
    "| `nesting` | The bees nesting method. |\n",
    "| `status` | The status of the bee species. |\n",
    "| `nonnative_bee` | Whether the bee species is native or not (0:no, 1:yes). |\n",
    "\n",
    "[Source](https://datadryad.org/stash/dataset/doi%253A10.5061%252Fdryad.pzgmsbcj8) (data has been modified)"
   ]
  },
  {
   "cell_type": "markdown",
   "id": "91c1f8ea-d0ef-4306-b67b-c8b6cad6c271",
   "metadata": {},
   "source": [
    "## 💪 Challenge\n",
    "Provide your agency with a report that covers the following:\n",
    "* Which plants are preferred by native vs non-native bee species?\n",
    "* A visualization of the distribution of bee and plant species across one of the samples.\n",
    "* Select the top three plant species you would recommend to the agency to support native bees."
   ]
  },
  {
   "cell_type": "markdown",
   "id": "7e1bc77e-b028-485f-bf0e-3ff67f58628f",
   "metadata": {},
   "source": [
    "## 🧑‍⚖️ Judging criteria\n",
    "\n",
    "This is a community-based competition. The top 5 most upvoted entries will win.\n",
    "\n",
    "The winners will receive DataCamp merchandise."
   ]
  },
  {
   "cell_type": "markdown",
   "id": "b63768c6-3d0e-4382-a0c6-599fb63e0048",
   "metadata": {},
   "source": [
    "## ✅ Checklist before publishing\n",
    "- Rename your workspace to make it descriptive of your work. N.B. you should leave the notebook name as notebook.ipynb.\n",
    "- **Remove redundant cells** like the judging criteria, so the workbook is focused on your work.\n",
    "- Check that all the cells run without error."
   ]
  },
  {
   "cell_type": "markdown",
   "id": "8595acae-a065-449e-bece-fba23b720d81",
   "metadata": {},
   "source": [
    "## ⌛️ Time is ticking. Good luck!"
   ]
  },
  {
   "cell_type": "code",
   "execution_count": 15,
   "id": "2812b095-deaa-41c8-b3fa-cdec3434442f",
   "metadata": {
    "chartConfig": {
     "bar": {
      "hasRoundedCorners": true,
      "stacked": false
     },
     "type": "bar",
     "version": "v1"
    },
    "executionCancelledAt": null,
    "executionTime": 125,
    "lastExecutedAt": 1688285324195,
    "lastScheduledRunId": null,
    "lastSuccessfullyExecutedCode": "import pandas as pd\ndata = pd.read_csv(\"data/plants_and_bees.csv\")\ndata",
    "scrolled": true,
    "visualizeDataframe": false
   },
   "outputs": [
    {
     "data": {
      "text/html": [
       "<div>\n",
       "<style scoped>\n",
       "    .dataframe tbody tr th:only-of-type {\n",
       "        vertical-align: middle;\n",
       "    }\n",
       "\n",
       "    .dataframe tbody tr th {\n",
       "        vertical-align: top;\n",
       "    }\n",
       "\n",
       "    .dataframe thead th {\n",
       "        text-align: right;\n",
       "    }\n",
       "</style>\n",
       "<table border=\"1\" class=\"dataframe\">\n",
       "  <thead>\n",
       "    <tr style=\"text-align: right;\">\n",
       "      <th></th>\n",
       "      <th>sample_id</th>\n",
       "      <th>bees_num</th>\n",
       "      <th>date</th>\n",
       "      <th>season</th>\n",
       "      <th>site</th>\n",
       "      <th>native_or_non</th>\n",
       "      <th>sampling</th>\n",
       "      <th>plant_species</th>\n",
       "      <th>time</th>\n",
       "      <th>bee_species</th>\n",
       "      <th>sex</th>\n",
       "      <th>specialized_on</th>\n",
       "      <th>parasitic</th>\n",
       "      <th>nesting</th>\n",
       "      <th>status</th>\n",
       "      <th>nonnative_bee</th>\n",
       "    </tr>\n",
       "  </thead>\n",
       "  <tbody>\n",
       "    <tr>\n",
       "      <th>0</th>\n",
       "      <td>17400</td>\n",
       "      <td>23</td>\n",
       "      <td>04/18/2017</td>\n",
       "      <td>early.season</td>\n",
       "      <td>A</td>\n",
       "      <td>native</td>\n",
       "      <td>pan traps</td>\n",
       "      <td>NaN</td>\n",
       "      <td>935</td>\n",
       "      <td>Augochlorella aurata</td>\n",
       "      <td>f</td>\n",
       "      <td>NaN</td>\n",
       "      <td>0.0</td>\n",
       "      <td>ground</td>\n",
       "      <td>NaN</td>\n",
       "      <td>0.0</td>\n",
       "    </tr>\n",
       "    <tr>\n",
       "      <th>1</th>\n",
       "      <td>17400</td>\n",
       "      <td>23</td>\n",
       "      <td>04/18/2017</td>\n",
       "      <td>early.season</td>\n",
       "      <td>A</td>\n",
       "      <td>native</td>\n",
       "      <td>pan traps</td>\n",
       "      <td>NaN</td>\n",
       "      <td>935</td>\n",
       "      <td>Agapostemon texanus</td>\n",
       "      <td>f</td>\n",
       "      <td>NaN</td>\n",
       "      <td>0.0</td>\n",
       "      <td>ground</td>\n",
       "      <td>NaN</td>\n",
       "      <td>0.0</td>\n",
       "    </tr>\n",
       "    <tr>\n",
       "      <th>2</th>\n",
       "      <td>17400</td>\n",
       "      <td>23</td>\n",
       "      <td>04/18/2017</td>\n",
       "      <td>early.season</td>\n",
       "      <td>A</td>\n",
       "      <td>native</td>\n",
       "      <td>pan traps</td>\n",
       "      <td>NaN</td>\n",
       "      <td>935</td>\n",
       "      <td>Augochlorella aurata</td>\n",
       "      <td>f</td>\n",
       "      <td>NaN</td>\n",
       "      <td>0.0</td>\n",
       "      <td>ground</td>\n",
       "      <td>NaN</td>\n",
       "      <td>0.0</td>\n",
       "    </tr>\n",
       "    <tr>\n",
       "      <th>3</th>\n",
       "      <td>17400</td>\n",
       "      <td>23</td>\n",
       "      <td>04/18/2017</td>\n",
       "      <td>early.season</td>\n",
       "      <td>A</td>\n",
       "      <td>native</td>\n",
       "      <td>pan traps</td>\n",
       "      <td>NaN</td>\n",
       "      <td>935</td>\n",
       "      <td>Andrena carlini</td>\n",
       "      <td>f</td>\n",
       "      <td>NaN</td>\n",
       "      <td>0.0</td>\n",
       "      <td>ground</td>\n",
       "      <td>NaN</td>\n",
       "      <td>0.0</td>\n",
       "    </tr>\n",
       "    <tr>\n",
       "      <th>4</th>\n",
       "      <td>17400</td>\n",
       "      <td>23</td>\n",
       "      <td>04/18/2017</td>\n",
       "      <td>early.season</td>\n",
       "      <td>A</td>\n",
       "      <td>native</td>\n",
       "      <td>pan traps</td>\n",
       "      <td>NaN</td>\n",
       "      <td>935</td>\n",
       "      <td>Andrena perplexa</td>\n",
       "      <td>m</td>\n",
       "      <td>NaN</td>\n",
       "      <td>0.0</td>\n",
       "      <td>ground</td>\n",
       "      <td>NaN</td>\n",
       "      <td>0.0</td>\n",
       "    </tr>\n",
       "    <tr>\n",
       "      <th>...</th>\n",
       "      <td>...</td>\n",
       "      <td>...</td>\n",
       "      <td>...</td>\n",
       "      <td>...</td>\n",
       "      <td>...</td>\n",
       "      <td>...</td>\n",
       "      <td>...</td>\n",
       "      <td>...</td>\n",
       "      <td>...</td>\n",
       "      <td>...</td>\n",
       "      <td>...</td>\n",
       "      <td>...</td>\n",
       "      <td>...</td>\n",
       "      <td>...</td>\n",
       "      <td>...</td>\n",
       "      <td>...</td>\n",
       "    </tr>\n",
       "    <tr>\n",
       "      <th>1245</th>\n",
       "      <td>17481</td>\n",
       "      <td>11</td>\n",
       "      <td>08/02/2017</td>\n",
       "      <td>late.season</td>\n",
       "      <td>B</td>\n",
       "      <td>non-native</td>\n",
       "      <td>hand netting</td>\n",
       "      <td>Cichorium intybus</td>\n",
       "      <td>930</td>\n",
       "      <td>Halictus poeyi/ligatus</td>\n",
       "      <td>f</td>\n",
       "      <td>NaN</td>\n",
       "      <td>0.0</td>\n",
       "      <td>ground</td>\n",
       "      <td>NaN</td>\n",
       "      <td>0.0</td>\n",
       "    </tr>\n",
       "    <tr>\n",
       "      <th>1246</th>\n",
       "      <td>17481</td>\n",
       "      <td>11</td>\n",
       "      <td>08/02/2017</td>\n",
       "      <td>late.season</td>\n",
       "      <td>B</td>\n",
       "      <td>non-native</td>\n",
       "      <td>hand netting</td>\n",
       "      <td>Cichorium intybus</td>\n",
       "      <td>930</td>\n",
       "      <td>Halictus poeyi/ligatus</td>\n",
       "      <td>f</td>\n",
       "      <td>NaN</td>\n",
       "      <td>0.0</td>\n",
       "      <td>ground</td>\n",
       "      <td>NaN</td>\n",
       "      <td>0.0</td>\n",
       "    </tr>\n",
       "    <tr>\n",
       "      <th>1247</th>\n",
       "      <td>17481</td>\n",
       "      <td>11</td>\n",
       "      <td>08/02/2017</td>\n",
       "      <td>late.season</td>\n",
       "      <td>B</td>\n",
       "      <td>non-native</td>\n",
       "      <td>hand netting</td>\n",
       "      <td>Cichorium intybus</td>\n",
       "      <td>930</td>\n",
       "      <td>Halictus poeyi/ligatus</td>\n",
       "      <td>f</td>\n",
       "      <td>NaN</td>\n",
       "      <td>0.0</td>\n",
       "      <td>ground</td>\n",
       "      <td>NaN</td>\n",
       "      <td>0.0</td>\n",
       "    </tr>\n",
       "    <tr>\n",
       "      <th>1248</th>\n",
       "      <td>17481</td>\n",
       "      <td>11</td>\n",
       "      <td>08/02/2017</td>\n",
       "      <td>late.season</td>\n",
       "      <td>B</td>\n",
       "      <td>non-native</td>\n",
       "      <td>hand netting</td>\n",
       "      <td>Cichorium intybus</td>\n",
       "      <td>930</td>\n",
       "      <td>Halictus poeyi/ligatus</td>\n",
       "      <td>f</td>\n",
       "      <td>NaN</td>\n",
       "      <td>0.0</td>\n",
       "      <td>ground</td>\n",
       "      <td>NaN</td>\n",
       "      <td>0.0</td>\n",
       "    </tr>\n",
       "    <tr>\n",
       "      <th>1249</th>\n",
       "      <td>17481</td>\n",
       "      <td>11</td>\n",
       "      <td>08/02/2017</td>\n",
       "      <td>late.season</td>\n",
       "      <td>B</td>\n",
       "      <td>non-native</td>\n",
       "      <td>hand netting</td>\n",
       "      <td>Cichorium intybus</td>\n",
       "      <td>930</td>\n",
       "      <td>Halictus poeyi/ligatus</td>\n",
       "      <td>f</td>\n",
       "      <td>NaN</td>\n",
       "      <td>0.0</td>\n",
       "      <td>ground</td>\n",
       "      <td>NaN</td>\n",
       "      <td>0.0</td>\n",
       "    </tr>\n",
       "  </tbody>\n",
       "</table>\n",
       "<p>1250 rows × 16 columns</p>\n",
       "</div>"
      ],
      "text/plain": [
       "      sample_id  bees_num        date        season site native_or_non  \\\n",
       "0         17400        23  04/18/2017  early.season    A        native   \n",
       "1         17400        23  04/18/2017  early.season    A        native   \n",
       "2         17400        23  04/18/2017  early.season    A        native   \n",
       "3         17400        23  04/18/2017  early.season    A        native   \n",
       "4         17400        23  04/18/2017  early.season    A        native   \n",
       "...         ...       ...         ...           ...  ...           ...   \n",
       "1245      17481        11  08/02/2017   late.season    B    non-native   \n",
       "1246      17481        11  08/02/2017   late.season    B    non-native   \n",
       "1247      17481        11  08/02/2017   late.season    B    non-native   \n",
       "1248      17481        11  08/02/2017   late.season    B    non-native   \n",
       "1249      17481        11  08/02/2017   late.season    B    non-native   \n",
       "\n",
       "          sampling      plant_species  time             bee_species sex  \\\n",
       "0        pan traps                NaN   935    Augochlorella aurata   f   \n",
       "1        pan traps                NaN   935     Agapostemon texanus   f   \n",
       "2        pan traps                NaN   935    Augochlorella aurata   f   \n",
       "3        pan traps                NaN   935         Andrena carlini   f   \n",
       "4        pan traps                NaN   935        Andrena perplexa   m   \n",
       "...            ...                ...   ...                     ...  ..   \n",
       "1245  hand netting  Cichorium intybus   930  Halictus poeyi/ligatus   f   \n",
       "1246  hand netting  Cichorium intybus   930  Halictus poeyi/ligatus   f   \n",
       "1247  hand netting  Cichorium intybus   930  Halictus poeyi/ligatus   f   \n",
       "1248  hand netting  Cichorium intybus   930  Halictus poeyi/ligatus   f   \n",
       "1249  hand netting  Cichorium intybus   930  Halictus poeyi/ligatus   f   \n",
       "\n",
       "     specialized_on  parasitic nesting status  nonnative_bee  \n",
       "0               NaN        0.0  ground    NaN            0.0  \n",
       "1               NaN        0.0  ground    NaN            0.0  \n",
       "2               NaN        0.0  ground    NaN            0.0  \n",
       "3               NaN        0.0  ground    NaN            0.0  \n",
       "4               NaN        0.0  ground    NaN            0.0  \n",
       "...             ...        ...     ...    ...            ...  \n",
       "1245            NaN        0.0  ground    NaN            0.0  \n",
       "1246            NaN        0.0  ground    NaN            0.0  \n",
       "1247            NaN        0.0  ground    NaN            0.0  \n",
       "1248            NaN        0.0  ground    NaN            0.0  \n",
       "1249            NaN        0.0  ground    NaN            0.0  \n",
       "\n",
       "[1250 rows x 16 columns]"
      ]
     },
     "execution_count": 15,
     "metadata": {},
     "output_type": "execute_result"
    }
   ],
   "source": [
    "import pandas as pd\n",
    "import matplotlib.pyplot as plt\n",
    "from sklearn.model_selection import train_test_split\n",
    "data = pd.read_csv(\"data/plants_and_bees.csv\")\n",
    "data"
   ]
  },
  {
   "cell_type": "code",
   "execution_count": 2,
   "id": "9abf368f",
   "metadata": {},
   "outputs": [
    {
     "name": "stdout",
     "output_type": "stream",
     "text": [
      "<class 'pandas.core.frame.DataFrame'>\n",
      "RangeIndex: 1250 entries, 0 to 1249\n",
      "Data columns (total 16 columns):\n",
      " #   Column          Non-Null Count  Dtype  \n",
      "---  ------          --------------  -----  \n",
      " 0   sample_id       1250 non-null   int64  \n",
      " 1   bees_num        1250 non-null   int64  \n",
      " 2   date            1250 non-null   object \n",
      " 3   season          1250 non-null   object \n",
      " 4   site            1250 non-null   object \n",
      " 5   native_or_non   1250 non-null   object \n",
      " 6   sampling        1250 non-null   object \n",
      " 7   plant_species   430 non-null    object \n",
      " 8   time            1250 non-null   int64  \n",
      " 9   bee_species     1250 non-null   object \n",
      " 10  sex             1250 non-null   object \n",
      " 11  specialized_on  7 non-null      object \n",
      " 12  parasitic       1187 non-null   float64\n",
      " 13  nesting         1196 non-null   object \n",
      " 14  status          15 non-null     object \n",
      " 15  nonnative_bee   1189 non-null   float64\n",
      "dtypes: float64(2), int64(3), object(11)\n",
      "memory usage: 156.4+ KB\n"
     ]
    }
   ],
   "source": [
    "data.info()"
   ]
  },
  {
   "cell_type": "code",
   "execution_count": 14,
   "id": "7f1b4fe9",
   "metadata": {},
   "outputs": [],
   "source": [
    "data_cat = data.select_dtypes(\"object\")\n"
   ]
  },
  {
   "cell_type": "code",
   "execution_count": 13,
   "id": "f7ff91e2",
   "metadata": {
    "scrolled": true
   },
   "outputs": [
    {
     "data": {
      "image/png": "[encoded data removed]",
      "text/plain": [
       "<Figure size 2000x1500 with 6 Axes>"
      ]
     },
     "metadata": {},
     "output_type": "display_data"
    }
   ],
   "source": [
    "data_numeric = data.select_dtypes(exclude=\"object\")\n",
    "data_numeric.hist(bins=50, figsize=(20,15))\n",
    "plt.show()"
   ]
  },
  {
   "cell_type": "code",
   "execution_count": 16,
   "id": "5cb52ce1",
   "metadata": {},
   "outputs": [
    {
     "ename": "InvalidParameterError",
     "evalue": "The 'stratify' parameter of train_test_split must be an array-like or None. Got True instead.",
     "output_type": "error",
     "traceback": [
      "\u001b[1;31m---------------------------------------------------------------------------\u001b[0m",
      "\u001b[1;31mInvalidParameterError\u001b[0m                     Traceback (most recent call last)",
      "Cell \u001b[1;32mIn[16], line 1\u001b[0m\n\u001b[1;32m----> 1\u001b[0m train_df, test_df \u001b[38;5;241m=\u001b[39m \u001b[43mtrain_test_split\u001b[49m\u001b[43m(\u001b[49m\u001b[43mdata\u001b[49m\u001b[43m,\u001b[49m\u001b[43m \u001b[49m\u001b[43mtest_size\u001b[49m\u001b[38;5;241;43m=\u001b[39;49m\u001b[38;5;241;43m0.2\u001b[39;49m\u001b[43m,\u001b[49m\u001b[43m \u001b[49m\u001b[43mrandom_state\u001b[49m\u001b[38;5;241;43m=\u001b[39;49m\u001b[38;5;241;43m42\u001b[39;49m\u001b[43m,\u001b[49m\u001b[43m \u001b[49m\u001b[43mstratify\u001b[49m\u001b[38;5;241;43m=\u001b[39;49m\u001b[38;5;28;43;01mTrue\u001b[39;49;00m\u001b[43m)\u001b[49m\n",
      "File \u001b[1;32mC:\\Python\\Python311\\Lib\\site-packages\\sklearn\\utils\\_param_validation.py:201\u001b[0m, in \u001b[0;36mvalidate_params.<locals>.decorator.<locals>.wrapper\u001b[1;34m(*args, **kwargs)\u001b[0m\n\u001b[0;32m    198\u001b[0m to_ignore \u001b[38;5;241m+\u001b[39m\u001b[38;5;241m=\u001b[39m [\u001b[38;5;124m\"\u001b[39m\u001b[38;5;124mself\u001b[39m\u001b[38;5;124m\"\u001b[39m, \u001b[38;5;124m\"\u001b[39m\u001b[38;5;124mcls\u001b[39m\u001b[38;5;124m\"\u001b[39m]\n\u001b[0;32m    199\u001b[0m params \u001b[38;5;241m=\u001b[39m {k: v \u001b[38;5;28;01mfor\u001b[39;00m k, v \u001b[38;5;129;01min\u001b[39;00m params\u001b[38;5;241m.\u001b[39marguments\u001b[38;5;241m.\u001b[39mitems() \u001b[38;5;28;01mif\u001b[39;00m k \u001b[38;5;129;01mnot\u001b[39;00m \u001b[38;5;129;01min\u001b[39;00m to_ignore}\n\u001b[1;32m--> 201\u001b[0m \u001b[43mvalidate_parameter_constraints\u001b[49m\u001b[43m(\u001b[49m\n\u001b[0;32m    202\u001b[0m \u001b[43m    \u001b[49m\u001b[43mparameter_constraints\u001b[49m\u001b[43m,\u001b[49m\u001b[43m \u001b[49m\u001b[43mparams\u001b[49m\u001b[43m,\u001b[49m\u001b[43m \u001b[49m\u001b[43mcaller_name\u001b[49m\u001b[38;5;241;43m=\u001b[39;49m\u001b[43mfunc\u001b[49m\u001b[38;5;241;43m.\u001b[39;49m\u001b[38;5;18;43m__qualname__\u001b[39;49m\n\u001b[0;32m    203\u001b[0m \u001b[43m\u001b[49m\u001b[43m)\u001b[49m\n\u001b[0;32m    205\u001b[0m \u001b[38;5;28;01mtry\u001b[39;00m:\n\u001b[0;32m    206\u001b[0m     \u001b[38;5;28;01mwith\u001b[39;00m config_context(\n\u001b[0;32m    207\u001b[0m         skip_parameter_validation\u001b[38;5;241m=\u001b[39m(\n\u001b[0;32m    208\u001b[0m             prefer_skip_nested_validation \u001b[38;5;129;01mor\u001b[39;00m global_skip_validation\n\u001b[0;32m    209\u001b[0m         )\n\u001b[0;32m    210\u001b[0m     ):\n",
      "File \u001b[1;32mC:\\Python\\Python311\\Lib\\site-packages\\sklearn\\utils\\_param_validation.py:95\u001b[0m, in \u001b[0;36mvalidate_parameter_constraints\u001b[1;34m(parameter_constraints, params, caller_name)\u001b[0m\n\u001b[0;32m     89\u001b[0m \u001b[38;5;28;01melse\u001b[39;00m:\n\u001b[0;32m     90\u001b[0m     constraints_str \u001b[38;5;241m=\u001b[39m (\n\u001b[0;32m     91\u001b[0m         \u001b[38;5;124mf\u001b[39m\u001b[38;5;124m\"\u001b[39m\u001b[38;5;132;01m{\u001b[39;00m\u001b[38;5;124m'\u001b[39m\u001b[38;5;124m, \u001b[39m\u001b[38;5;124m'\u001b[39m\u001b[38;5;241m.\u001b[39mjoin([\u001b[38;5;28mstr\u001b[39m(c)\u001b[38;5;250m \u001b[39m\u001b[38;5;28;01mfor\u001b[39;00m\u001b[38;5;250m \u001b[39mc\u001b[38;5;250m \u001b[39m\u001b[38;5;129;01min\u001b[39;00m\u001b[38;5;250m \u001b[39mconstraints[:\u001b[38;5;241m-\u001b[39m\u001b[38;5;241m1\u001b[39m]])\u001b[38;5;132;01m}\u001b[39;00m\u001b[38;5;124m or\u001b[39m\u001b[38;5;124m\"\u001b[39m\n\u001b[0;32m     92\u001b[0m         \u001b[38;5;124mf\u001b[39m\u001b[38;5;124m\"\u001b[39m\u001b[38;5;124m \u001b[39m\u001b[38;5;132;01m{\u001b[39;00mconstraints[\u001b[38;5;241m-\u001b[39m\u001b[38;5;241m1\u001b[39m]\u001b[38;5;132;01m}\u001b[39;00m\u001b[38;5;124m\"\u001b[39m\n\u001b[0;32m     93\u001b[0m     )\n\u001b[1;32m---> 95\u001b[0m \u001b[38;5;28;01mraise\u001b[39;00m InvalidParameterError(\n\u001b[0;32m     96\u001b[0m     \u001b[38;5;124mf\u001b[39m\u001b[38;5;124m\"\u001b[39m\u001b[38;5;124mThe \u001b[39m\u001b[38;5;132;01m{\u001b[39;00mparam_name\u001b[38;5;132;01m!r}\u001b[39;00m\u001b[38;5;124m parameter of \u001b[39m\u001b[38;5;132;01m{\u001b[39;00mcaller_name\u001b[38;5;132;01m}\u001b[39;00m\u001b[38;5;124m must be\u001b[39m\u001b[38;5;124m\"\u001b[39m\n\u001b[0;32m     97\u001b[0m     \u001b[38;5;124mf\u001b[39m\u001b[38;5;124m\"\u001b[39m\u001b[38;5;124m \u001b[39m\u001b[38;5;132;01m{\u001b[39;00mconstraints_str\u001b[38;5;132;01m}\u001b[39;00m\u001b[38;5;124m. Got \u001b[39m\u001b[38;5;132;01m{\u001b[39;00mparam_val\u001b[38;5;132;01m!r}\u001b[39;00m\u001b[38;5;124m instead.\u001b[39m\u001b[38;5;124m\"\u001b[39m\n\u001b[0;32m     98\u001b[0m )\n",
      "\u001b[1;31mInvalidParameterError\u001b[0m: The 'stratify' parameter of train_test_split must be an array-like or None. Got True instead."
     ]
    }
   ],
   "source": [
    "train_df, test_df = train_test_split(data, test_size=0.2, random_state=42, stratify=True)"
   ]
  },
  {
   "cell_type": "code",
   "execution_count": null,
   "id": "ff5d4a69-0650-45fa-89fc-82dbbcb98d50",
   "metadata": {
    "executionCancelledAt": null,
    "executionTime": 14,
    "lastExecutedAt": 1688285326646,
    "lastScheduledRunId": null,
    "lastSuccessfullyExecutedCode": "# Start coding here\ndata.duplicated()",
    "scrolled": false
   },
   "outputs": [],
   "source": [
    "# Start coding here\n",
    "data.drop_duplicates(keep=\"first\", inplace=True)\n",
    "data"
   ]
  },
  {
   "cell_type": "code",
   "execution_count": null,
   "id": "fe651174",
   "metadata": {},
   "outputs": [],
   "source": [
    "data.sample_id.nunique()"
   ]
  },
  {
   "cell_type": "code",
   "execution_count": null,
   "id": "0a69c5bb",
   "metadata": {
    "scrolled": true
   },
   "outputs": [],
   "source": [
    "data.isna().sum()"
   ]
  },
  {
   "cell_type": "code",
   "execution_count": null,
   "id": "09e8db55",
   "metadata": {},
   "outputs": [],
   "source": [
    "data.specialized_on"
   ]
  }
 ],
 "metadata": {
  "colab": {
   "name": "Welcome to DataCamp Workspaces.ipynb",
   "provenance": []
  },
  "kernelspec": {
   "display_name": "Python 3 (ipykernel)",
   "language": "python",
   "name": "python3"
  },
  "language_info": {
   "codemirror_mode": {
    "name": "ipython",
    "version": 3
   },
   "file_extension": ".py",
   "mimetype": "text/x-python",
   "name": "python",
   "nbconvert_exporter": "python",
   "pygments_lexer": "ipython3",
   "version": "3.11.4"
  }
 },
 "nbformat": 4,
 "nbformat_minor": 5
}
